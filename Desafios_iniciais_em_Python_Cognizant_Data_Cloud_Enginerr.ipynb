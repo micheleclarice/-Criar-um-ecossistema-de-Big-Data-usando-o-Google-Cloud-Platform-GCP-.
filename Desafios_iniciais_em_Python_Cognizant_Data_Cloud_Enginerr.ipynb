{
  "nbformat": 4,
  "nbformat_minor": 0,
  "metadata": {
    "colab": {
      "name": "Desafios iniciais em Python-Cognizant Data Cloud Enginerr.ipynb",
      "provenance": [],
      "collapsed_sections": [],
      "include_colab_link": true
    },
    "kernelspec": {
      "name": "python3",
      "display_name": "Python 3"
    },
    "language_info": {
      "name": "python"
    }
  },
  "cells": [
    {
      "cell_type": "markdown",
      "metadata": {
        "id": "view-in-github",
        "colab_type": "text"
      },
      "source": [
        "<a href=\"https://colab.research.google.com/github/micheleclarice/-Criar-um-ecossistema-de-Big-Data-usando-o-Google-Cloud-Platform-GCP-./blob/main/Desafios_iniciais_em_Python_Cognizant_Data_Cloud_Enginerr.ipynb\" target=\"_parent\"><img src=\"https://colab.research.google.com/assets/colab-badge.svg\" alt=\"Open In Colab\"/></a>"
      ]
    },
    {
      "cell_type": "markdown",
      "source": [
        "#Desafio - Média 1\n",
        "\n",
        "Leia 2 valores de ponto flutuante de dupla precisão A e B, que correspondem a 2 notas de um aluno. A seguir, calcule a média do aluno, sabendo que a nota A tem peso 3.5 e a nota B tem peso 7.5 (A soma dos pesos portanto é 11). Assuma que cada nota pode ir de 0 até 10.0, sempre com uma casa decimal.\n",
        "\n",
        "##Entrada\n",
        "O arquivo de entrada contém 2 valores com uma casa decimal cada um.\n",
        "\n",
        "##Saída\n",
        "Calcule e imprima a variável MEDIA conforme exemplo abaixo, com 5 dígitos após o ponto decimal e com um espaço em branco antes e depois da igualdade. Utilize variáveis de dupla precisão (double) e como todos os problemas, não esqueça de imprimir o fim de linha após o resultado, caso contrário, você receberá \"Presentation Error\".\n",
        "\n",
        " \n",
        "| Exemplo de Entrada \t| Exemplo de Saída \t|\n",
        "|---\t|---\t|\n",
        "| 5.0<br>7.1 \t| MEDIA = 6.43182 \t|\n",
        "| 0.0<br>7.1 \t| MEDIA = 4.84091 \t|\n",
        "| 10.0<br>10.0 \t| MEDIA = 10.0000 \t|"
      ],
      "metadata": {
        "id": "v4S9H_FEDDyJ"
      }
    },
    {
      "cell_type": "code",
      "source": [
        "a = float(input())\n",
        "b = float(input())\n",
        "\n",
        "#TODO: Complete os espaços em branco com as respectivas variáveis para o cálculo da média.\n",
        "media = (a * 3.5 +  b* 7.5) / 11\n",
        "\n",
        "#TODO: Complete com a variável que representa o resultado da média.\n",
        "print(f'MEDIA = { media: .5f}')"
      ],
      "metadata": {
        "colab": {
          "base_uri": "https://localhost:8080/"
        },
        "id": "bqucV1JkD3Ks",
        "outputId": "ab4c14dd-f6a5-4baf-9d2b-70a9bfdc5f23"
      },
      "execution_count": null,
      "outputs": [
        {
          "output_type": "stream",
          "name": "stdout",
          "text": [
            "10.00\n",
            "10.00\n",
            "MEDIA =  10.00000\n"
          ]
        }
      ]
    },
    {
      "cell_type": "markdown",
      "source": [
        "#Desafio Triangulo\n",
        "Leia 3 valores reais (A, B e C) e verifique se eles formam ou não um triângulo. Em caso positivo, calcule o perímetro do triângulo (soma de todos os lados) e apresente a mensagem:\n",
        "\n",
        "Perimetro = XX.X\n",
        "\n",
        "Em caso negativo, calcule a área do trapézio que tem A e B como base e C como altura, mostrando a mensagem:\n",
        "\n",
        "Area = XX.X\n",
        "\n",
        "Fórmula da área de um trapézio: AREA = ((A + B) x C) / 2\n",
        "\n",
        "##Entrada\n",
        "A entrada contém três valores reais.\n",
        "\n",
        "##Saída\n",
        "O resultado deve ser apresentado com uma casa decimal.\n",
        "\n",
        " \n",
        "| Exemplo de Entrada \t| Exemplo de Saída \t|\n",
        "|---\t|---\t|\n",
        "| 6.0 4.0 2.0 \t| Area = 10.0 \t|\n",
        "| 6.0 4.0 2.1 \t| Perimetro = 12.1 \t|"
      ],
      "metadata": {
        "id": "a0uAfenqEHQs"
      }
    },
    {
      "cell_type": "code",
      "source": [
        "lados = [float(x) for x in input().split()]\n",
        "\n",
        "a = lados[0];\n",
        "b = lados[1];\n",
        "c = lados[2];\n",
        "\n",
        "if a + b > c and a + c > b and b + c > a:\n",
        "    #TODO Preencha a formula do perímeto do triangulo (soma de todos os lados).\n",
        "    soma = a + b + c\n",
        "    print(f\"Perimetro = { soma   :.1f}\")\n",
        "else:\n",
        "    #TODO Preencha a formula da área do trapézio: AREA = ((A + B) x C) / 2\n",
        "    AREA = ((a +b) * c)/2\n",
        "    print(f\"Area = {  AREA  :.1f}\")"
      ],
      "metadata": {
        "colab": {
          "base_uri": "https://localhost:8080/"
        },
        "id": "ow1Ejc6nEqKN",
        "outputId": "590bf701-ea24-4270-9853-dc390db07716"
      },
      "execution_count": null,
      "outputs": [
        {
          "output_type": "stream",
          "name": "stdout",
          "text": [
            "6.0 4.0 2.1\n",
            "Perimetro = 12.1\n"
          ]
        }
      ]
    },
    {
      "cell_type": "markdown",
      "source": [
        "#Desafio Conversão de Tempo\n",
        "Você terá o desafio de ler um valor inteiro, que é o tempo de duração em segundos de um determinado evento em uma loja, e informe-o expresso no formato horas:minutos:segundos.\n",
        "\n",
        "##Entrada\n",
        "O arquivo de entrada contém um valor inteiro N.\n",
        "\n",
        "##Saída\n",
        "Imprima o tempo lido no arquivo de entrada (segundos), convertido para horas:minutos:segundos, conforme exemplo fornecido.\n",
        "\n",
        " \n",
        "| Exemplo de Entrada \t| Exemplo de Saída \t|\n",
        "|---\t|---\t|\n",
        "| 556 \t| 0:9:16 \t|\n",
        "| 1 \t| 0:0:1 \t|"
      ],
      "metadata": {
        "id": "9yAkwRTSE3Yn"
      }
    },
    {
      "cell_type": "code",
      "source": [
        "segundos = int(input())\n",
        "horas = segundos // 60**2\n",
        "segundos = segundos - horas * 60**2\n",
        "\n",
        "minutos = segundos // 60\n",
        "segundos = segundos - minutos*60\n",
        "\n",
        "segundos = segundos\n",
        "print(\"{}:{}:{}\".format(horas, minutos, segundos))"
      ],
      "metadata": {
        "colab": {
          "base_uri": "https://localhost:8080/"
        },
        "id": "2OVFByUpFRh0",
        "outputId": "454da107-1786-4315-e9d7-780fc66143ae"
      },
      "execution_count": null,
      "outputs": [
        {
          "output_type": "stream",
          "name": "stdout",
          "text": [
            "3600\n",
            "1:0:0\n"
          ]
        }
      ]
    }
  ]
}